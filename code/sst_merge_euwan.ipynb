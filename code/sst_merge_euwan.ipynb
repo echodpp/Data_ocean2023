{
  "nbformat": 4,
  "nbformat_minor": 0,
  "metadata": {
    "colab": {
      "provenance": []
    },
    "kernelspec": {
      "name": "python3",
      "display_name": "Python 3"
    },
    "language_info": {
      "name": "python"
    }
  },
  "cells": [
    {
      "cell_type": "markdown",
      "source": [
        "### MODIS (1080x2160)"
      ],
      "metadata": {
        "id": "IAp7O9WS_gay"
      }
    },
    {
      "cell_type": "code",
      "source": [
        "import requests\n",
        "import os\n",
        "from bs4 import BeautifulSoup\n",
        "import urllib.parse\n",
        "\n",
        "def download_file(url, filename):\n",
        "    response = requests.get(url, stream=True)\n",
        "    response.raise_for_status()\n",
        "    with open(filename, 'wb') as f:\n",
        "        for chunk in response.iter_content(chunk_size=8192):\n",
        "            f.write(chunk)\n",
        "\n",
        "# Make sure 'data/' directory exists\n",
        "if not os.path.exists('data/'):\n",
        "    os.makedirs('data/')\n",
        "    \n",
        "\n",
        "# Download the data from MODIS (1080x2160):  http://orca.science.oregonstate.edu/1080.by.2160.monthly.hdf.sst.modis.php\n",
        "\n",
        "modis_url = 'http://orca.science.oregonstate.edu/data/1x2/monthly/sst.modis.r2022/hdf/sst.m.{}.tar'\n",
        "\n",
        "for year in range(2002, 2023):  # 2023 is not included\n",
        "    url = modis_url.format(year)\n",
        "    filename = f'data/sst.m.{year}.tar'\n",
        "    download_file(url, filename)\n",
        "    print(f\"Downloaded: {filename}\")\n",
        "\n",
        "\n",
        "# Download the satellite data (1080x2160): http://orca.science.oregonstate.edu/1080.by.2160.monthly.hdf.vgpm.m.chl.m.sst.php\n",
        "\n",
        "base_url = 'http://orca.science.oregonstate.edu/data/1x2/monthly/vgpm.r2022.m.chl.m.sst/hdf/vgpm.m.{}.tar'\n",
        "\n",
        "for year in range(2002, 2023):  # 2023 is not included\n",
        "    url = base_url.format(year)\n",
        "    filename = f'data/vgpm.m.{year}.tar'\n",
        "    download_file(url, filename)\n",
        "    print(f\"Downloaded: {filename}\")"
      ],
      "metadata": {
        "id": "8RvXMDbHKtgb"
      },
      "execution_count": null,
      "outputs": []
    },
    {
      "cell_type": "markdown",
      "source": [
        "### SeaWIFS/AVHRR (1024x2048)"
      ],
      "metadata": {
        "id": "LbOSHsVJX3oM"
      }
    },
    {
      "cell_type": "code",
      "source": [
        "# Download the data from SeaWIFS/AVHRR (1024x2048): http://orca.science.oregonstate.edu/1080.by.2160.monthly.hdf.sst.avhrr.php\n",
        "\n",
        "seawifs_url = 'http://orca.science.oregonstate.edu/data/1x2/monthly/sst.avhrr/hdf/sst.a.{}.tar'\n",
        "\n",
        "for year in range(1997, 2002):  # 2003 is not included\n",
        "    url = seawifs_url.format(year)\n",
        "    filename = f'data/sst.a.{year}.tar'\n",
        "    download_file(url, filename)\n",
        "    print(f\"Downloaded: {filename}\")\n",
        "\n",
        "\n",
        "# Download satellite data (1080x2160): http://orca.science.oregonstate.edu/1080.by.2160.monthly.hdf.vgpm.s.chl.a.sst.php\n",
        "\n",
        "new_url = 'http://orca.science.oregonstate.edu/data/1x2/monthly/vgpm.r2014.s.chl.a.sst/hdf/vgpm.s.{}.tar'\n",
        "\n",
        "for year in range(1997, 2002):  # 2023 is not included\n",
        "    url = new_url.format(year)\n",
        "    filename = f'data/vgpm.s.{year}.tar'\n",
        "    download_file(url, filename)\n",
        "    print(f\"Downloaded: {filename}\")"
      ],
      "metadata": {
        "id": "wzE1SCPIIE_T"
      },
      "execution_count": null,
      "outputs": []
    },
    {
      "cell_type": "markdown",
      "source": [
        "### Calculating MODIS Mean"
      ],
      "metadata": {
        "id": "TmSnw-xY_9z0"
      }
    },
    {
      "cell_type": "code",
      "source": [
        "import os\n",
        "import tarfile\n",
        "import gzip\n",
        "import tempfile\n",
        "!pip install pyhdf\n",
        "from pyhdf.SD import *\n",
        "import pandas as pd\n",
        "import numpy as np\n",
        "\n",
        "# Create a DataFrame to store the results\n",
        "df = pd.DataFrame()\n",
        "\n",
        "# Loop through each tar file\n",
        "for year in range(2002, 2023):\n",
        "    # Open the tar file\n",
        "    tar_filename = f'data/sst.m.{year}.tar'\n",
        "    with tarfile.open(tar_filename, \"r:\") as tar:\n",
        "        # Loop through each member of the tar file\n",
        "        for member in tar.getmembers():\n",
        "            # If it's a .hdf.gz file\n",
        "            if member.name.endswith('.hdf.gz'):\n",
        "                # Open the .hdf.gz file\n",
        "                f = tar.extractfile(member)\n",
        "                with gzip.open(f, 'rb') as gz:\n",
        "                    # Decompress the .hdf.gz file to a temporary file\n",
        "                    with tempfile.NamedTemporaryFile() as tmp:\n",
        "                        tmp.write(gz.read())\n",
        "                        tmp.seek(0)  # Go back to the start of the file\n",
        "\n",
        "                        # Open the temporary .hdf file\n",
        "                        hdf_file = SD(tmp.name, SDC.READ)\n",
        "\n",
        "                        # Access the 'sst' dataset\n",
        "                        data = hdf_file.select('sst')[:]\n",
        "\n",
        "                        # Take the mean along the time (2nd) dimension and reshape to a 1D array\n",
        "                        mean_data = np.mean(data, axis=1).reshape(-1)\n",
        "\n",
        "                        # Add this to the DataFrame\n",
        "                        df[str(year)] = mean_data\n",
        "\n",
        "                        # Close the file\n",
        "                        hdf_file.end()\n",
        "\n",
        "# Save the DataFrame to a CSV file\n",
        "df.to_csv('sst_m_means.csv', index=False)"
      ],
      "metadata": {
        "id": "2WrKSu79_-O1"
      },
      "execution_count": null,
      "outputs": []
    },
    {
      "cell_type": "code",
      "source": [
        "# Create a DataFrame to store the results\n",
        "df = pd.DataFrame()\n",
        "\n",
        "# Loop through each tar file\n",
        "for year in range(2002, 2023):\n",
        "    # Open the tar file\n",
        "    tar_filename = f'data/sst.m.{year}.tar'\n",
        "    with tarfile.open(tar_filename, \"r:\") as tar:\n",
        "        # Loop through each member of the tar file\n",
        "        for member in tar.getmembers():\n",
        "            # If it's a .hdf.gz file\n",
        "            if member.name.endswith('.hdf.gz'):\n",
        "                # Open the .hdf.gz file\n",
        "                f = tar.extractfile(member)\n",
        "                with gzip.open(f, 'rb') as gz:\n",
        "                    # Decompress the .hdf.gz file to a temporary file\n",
        "                    with tempfile.NamedTemporaryFile() as tmp:\n",
        "                        tmp.write(gz.read())\n",
        "                        tmp.seek(0)  # Go back to the start of the file\n",
        "\n",
        "                        # Open the temporary .hdf file\n",
        "                        hdf_file = SD(tmp.name, SDC.READ)\n",
        "\n",
        "                        # Access the 'sst' dataset\n",
        "                        data = hdf_file.select('sst')\n",
        "\n",
        "                        # Retrieve the latitude and longitude attributes\n",
        "                        latitude_center = data.attributes()['Latitude Center']\n",
        "                        longitude_center = data.attributes()['Longitude Center']\n",
        "\n",
        "                        # Take the mean along the time (2nd) dimension\n",
        "                        mean_data = np.mean(data[:], axis=1).reshape(-1)\n",
        "\n",
        "                        # Add this to the DataFrame\n",
        "                        df_temp = pd.DataFrame({\n",
        "                            'year': [year] * len(mean_data),\n",
        "                            'latitude': [latitude_center] * len(mean_data),\n",
        "                            'longitude': [longitude_center] * len(mean_data),\n",
        "                            'sst': mean_data\n",
        "                        })\n",
        "                        df = pd.concat([df, df_temp])\n",
        "\n",
        "                        # Close the file\n",
        "                        hdf_file.end()\n",
        "\n",
        "# Save the DataFrame to a CSV file\n",
        "df.to_csv('sst_m_means_new.csv', index=False)\n"
      ],
      "metadata": {
        "id": "bdzbkFHHAMf7"
      },
      "execution_count": null,
      "outputs": []
    },
    {
      "cell_type": "markdown",
      "source": [
        "### Calculating SeaWIFS/AVHRR Mean"
      ],
      "metadata": {
        "id": "0L6TI9gnYKrY"
      }
    },
    {
      "cell_type": "code",
      "source": [
        "# Waiting to resolve merge issue\n",
        "\n",
        "import os\n",
        "import tarfile\n",
        "import gzip\n",
        "import tempfile\n",
        "!pip install pyhdf\n",
        "from pyhdf.SD import *\n",
        "import pandas as pd\n",
        "import numpy as np\n",
        "\n",
        "# Create a DataFrame to store the results\n",
        "df = pd.DataFrame()\n",
        "\n",
        "# Loop through each tar file\n",
        "for year in range(1997, 2002):\n",
        "    # Open the tar file\n",
        "    tar_filename = f'data/sst.a.{year}.tar'\n",
        "    with tarfile.open(tar_filename, \"r:\") as tar:\n",
        "        # Loop through each member of the tar file\n",
        "        for member in tar.getmembers():\n",
        "            # If it's a .hdf.gz file\n",
        "            if member.name.endswith('.hdf.gz'):\n",
        "                # Open the .hdf.gz file\n",
        "                f = tar.extractfile(member)\n",
        "                with gzip.open(f, 'rb') as gz:\n",
        "                    # Decompress the .hdf.gz file to a temporary file\n",
        "                    with tempfile.NamedTemporaryFile() as tmp:\n",
        "                        tmp.write(gz.read())\n",
        "                        tmp.seek(0)  # Go back to the start of the file\n",
        "\n",
        "                        # Open the temporary .hdf file\n",
        "                        hdf_file = SD(tmp.name, SDC.READ)\n",
        "\n",
        "                        # Access the 'sst' dataset\n",
        "                        data = hdf_file.select('sst')[:]\n",
        "\n",
        "                        # Take the mean along the time (2nd) dimension and reshape to a 1D array\n",
        "                        mean_data = np.mean(data, axis=1).reshape(-1)\n",
        "\n",
        "                        # Add this to the DataFrame\n",
        "                        df[str(year)] = mean_data\n",
        "\n",
        "                        # Close the file\n",
        "                        hdf_file.end()\n",
        "\n",
        "# Save the DataFrame to a CSV file\n",
        "df.to_csv('sst_a_means.csv', index=False)"
      ],
      "metadata": {
        "id": "15vZ1aTrY_q4"
      },
      "execution_count": null,
      "outputs": []
    },
    {
      "cell_type": "code",
      "source": [
        "# Create a DataFrame to store the results\n",
        "df = pd.DataFrame()\n",
        "\n",
        "# Loop through each tar file\n",
        "for year in range(1997, 2002):\n",
        "    # Open the tar file\n",
        "    tar_filename = f'data/sst.a.{year}.tar'\n",
        "    with tarfile.open(tar_filename, \"r:\") as tar:\n",
        "        # Loop through each member of the tar file\n",
        "        for member in tar.getmembers():\n",
        "            # If it's a .hdf.gz file\n",
        "            if member.name.endswith('.hdf.gz'):\n",
        "                # Open the .hdf.gz file\n",
        "                f = tar.extractfile(member)\n",
        "                with gzip.open(f, 'rb') as gz:\n",
        "                    # Decompress the .hdf.gz file to a temporary file\n",
        "                    with tempfile.NamedTemporaryFile() as tmp:\n",
        "                        tmp.write(gz.read())\n",
        "                        tmp.seek(0)  # Go back to the start of the file\n",
        "\n",
        "                        # Open the temporary .hdf file\n",
        "                        hdf_file = SD(tmp.name, SDC.READ)\n",
        "\n",
        "                        # Access the 'sst' dataset\n",
        "                        data = hdf_file.select('sst')\n",
        "\n",
        "                        # Retrieve the latitude and longitude attributes\n",
        "                        latitude_center = data.attributes()['Latitude Center']\n",
        "                        longitude_center = data.attributes()['Longitude Center']\n",
        "\n",
        "                        # Take the mean along the time (2nd) dimension\n",
        "                        mean_data = np.mean(data[:], axis=1).reshape(-1)\n",
        "\n",
        "                        # Add this to the DataFrame\n",
        "                        df_temp = pd.DataFrame({\n",
        "                            'year': [year] * len(mean_data),\n",
        "                            'latitude': [latitude_center] * len(mean_data),\n",
        "                            'longitude': [longitude_center] * len(mean_data),\n",
        "                            'sst': mean_data\n",
        "                        })\n",
        "                        df = pd.concat([df, df_temp])\n",
        "\n",
        "                        # Close the file\n",
        "                        hdf_file.end()\n",
        "\n",
        "# Save the DataFrame to a CSV file\n",
        "df.to_csv('sst_a_means_new.csv', index=False)"
      ],
      "metadata": {
        "id": "t3k09XCzeJZl"
      },
      "execution_count": null,
      "outputs": []
    }
  ]
}