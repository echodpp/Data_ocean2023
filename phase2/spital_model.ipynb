{
 "cells": [
  {
   "cell_type": "code",
   "execution_count": 1,
   "id": "97af7919-0ead-4679-bcad-1a72ad122834",
   "metadata": {
    "tags": []
   },
   "outputs": [],
   "source": [
    "import pandas as pd\n",
    "df=pd.read_csv('data.csv')"
   ]
  },
  {
   "cell_type": "code",
   "execution_count": 2,
   "id": "6e908ca5-75ca-4793-929c-b30078f8a3af",
   "metadata": {
    "tags": []
   },
   "outputs": [
    {
     "name": "stdout",
     "output_type": "stream",
     "text": [
      "Unnamed: 0       0\n",
      "iso              0\n",
      "crsID            0\n",
      "Lat              0\n",
      "Lon              0\n",
      "Yr               0\n",
      "Mn               0\n",
      "Dy               0\n",
      "salt             0\n",
      "temp             0\n",
      "press            0\n",
      "o2ar             0\n",
      "neto2            0\n",
      "Lon70            0\n",
      "yrmn             0\n",
      "jd               0\n",
      "wsi              0\n",
      "wsj              0\n",
      "yd               0\n",
      "mli              0\n",
      "mlj              0\n",
      "ncp           1615\n",
      "CbPM             0\n",
      "VGPM             0\n",
      "CDOM             0\n",
      "CHL              0\n",
      "KD490            0\n",
      "PAR              0\n",
      "PIC              0\n",
      "POC              0\n",
      "aot              0\n",
      "Rrs_412          0\n",
      "Rrs_443          0\n",
      "Rrs_490          0\n",
      "Rrs_510          0\n",
      "Rrs_555          0\n",
      "Rrs_670          0\n",
      "ID               0\n",
      "Outlier          0\n",
      "dtype: int64\n"
     ]
    }
   ],
   "source": [
    "### define outliers \n",
    "mean = df['ncp'].mean()\n",
    "std_dev = df['ncp'].std()\n",
    "df['Outlier'] = (df['ncp'] < mean - 10*std_dev) | (df['ncp'] > mean + 10*std_dev)\n",
    "\n",
    "### drop outliers \n",
    "\n",
    "df = df.drop(df[df['Outlier'] == True].index)\n",
    "\n",
    "\n",
    "### drop nan\n",
    "\n",
    "print(df.isnull().sum())\n",
    "df = df.dropna() "
   ]
  },
  {
   "cell_type": "markdown",
   "id": "21e07016-bc6b-464b-85c8-a66186c0a170",
   "metadata": {},
   "source": [
    "### Generalized Method of Moments (GMM) estimator "
   ]
  },
  {
   "cell_type": "code",
   "execution_count": 22,
   "id": "62679b6f-a461-49ec-914e-8b10736656a0",
   "metadata": {
    "tags": []
   },
   "outputs": [],
   "source": [
    "feature_columns = [ 'Lat', 'Lon', 'Yr', 'Mn', 'Dy', 'salt',\n",
    "       'temp', 'press', 'neto2', 'Lon70', 'yrmn', 'jd', 'wsi', 'wsj',\n",
    "       'yd', 'mli', 'mlj', 'CbPM', 'VGPM', 'CDOM', 'CHL', 'KD490',\n",
    "       'PAR', 'PIC', 'POC', 'aot', 'Rrs_412', 'Rrs_443', 'Rrs_490', 'Rrs_510',\n",
    "       'Rrs_555', 'Rrs_670']"
   ]
  },
  {
   "cell_type": "code",
   "execution_count": 38,
   "id": "42507e2b-20a5-4b19-a71d-66910420a061",
   "metadata": {
    "tags": []
   },
   "outputs": [],
   "source": [
    "# Sort data by longitude\n",
    "df_sorted = df.sort_values(by='Lon')\n",
    "\n",
    "# Define dependent variable and independent variables\n",
    "y = df_sorted['ncp']\n",
    "X = df_sorted[feature_columns]\n",
    "\n",
    "# Determine split point\n",
    "split_point = int(len(df_sorted) * 0.8)\n",
    "\n",
    "# Split the data\n",
    "X_train, X_test = X[:split_point], X[split_point:]\n",
    "y_train, y_test = y[:split_point], y[split_point:]\n",
    "# assign column name \n",
    "\n",
    "X_train.columns = feature_columns\n",
    "X_test.columns = feature_columns"
   ]
  },
  {
   "cell_type": "code",
   "execution_count": 18,
   "id": "f7412af4-ad2e-48f3-a31e-744aa7530902",
   "metadata": {
    "tags": []
   },
   "outputs": [
    {
     "name": "stdout",
     "output_type": "stream",
     "text": [
      "282274\n"
     ]
    }
   ],
   "source": [
    "print(y_train.nunique()) \n"
   ]
  },
  {
   "cell_type": "code",
   "execution_count": 39,
   "id": "9a059370-0ddc-4229-8d83-67f6a89ce27d",
   "metadata": {
    "tags": []
   },
   "outputs": [
    {
     "name": "stderr",
     "output_type": "stream",
     "text": [
      "/hpc/home/xc184/.local/lib/python3.10/site-packages/libpysal/weights/weights.py:172: UserWarning: The weights matrix is not fully connected: \n",
      " There are 1639 disconnected components.\n",
      "  warnings.warn(message)\n"
     ]
    },
    {
     "name": "stdout",
     "output_type": "stream",
     "text": [
      "Moran's I: 0.9967419819960229, p-value: 0.001\n",
      "REGRESSION\n",
      "----------\n",
      "SUMMARY OF OUTPUT: SPATIAL TWO STAGE LEAST SQUARES\n",
      "--------------------------------------------------\n",
      "Data set            :     unknown\n",
      "Weights matrix      :     unknown\n",
      "Dependent Variable  :     dep_var                Number of Observations:      282941\n",
      "Mean dependent var  :      9.2043                Number of Variables   :          34\n",
      "S.D. dependent var  :     23.2837                Degrees of Freedom    :      282907\n",
      "Pseudo R-squared    :      0.0657\n",
      "Spatial Pseudo R-squared:  0.1346\n",
      "\n",
      "------------------------------------------------------------------------------------\n",
      "            Variable     Coefficient       Std.Error     z-Statistic     Probability\n",
      "------------------------------------------------------------------------------------\n",
      "            CONSTANT    -203029.4066858             nan             nan             nan\n",
      "               var_1      -5.4026682       0.0523080    -103.2856478       0.0000000\n",
      "               var_2      -0.1623888       0.0287569      -5.6469574       0.0000000\n",
      "               var_3     101.3548325       0.0009632    105229.4920240       0.0000000\n",
      "               var_4    -151.3831634       0.4953572    -305.6040324       0.0000000\n",
      "               var_5      -6.0428745             nan             nan             nan\n",
      "               var_6      -1.3907103             nan             nan             nan\n",
      "               var_7    2299.3258935       2.1922664    1048.8350800       0.0000000\n",
      "               var_8      -0.0466586       0.0033142     -14.0784670       0.0000000\n",
      "               var_9    -2301.0269452       2.1711905    -1059.7996350       0.0000000\n",
      "              var_10       0.0624491             nan             nan             nan\n",
      "              var_11       0.0022937       0.0000309      74.2937781       0.0000000\n",
      "              var_12      -0.0002330       0.0000032     -71.8108723       0.0000000\n",
      "              var_13       0.1228712             nan             nan             nan\n",
      "              var_14       0.6774000             nan             nan             nan\n",
      "              var_15       5.0763117       0.0062753     808.9356149       0.0000000\n",
      "              var_16      -0.2228756             nan             nan             nan\n",
      "              var_17       0.1366800             nan             nan             nan\n",
      "              var_18       0.0361426       0.0007422      48.6985760       0.0000000\n",
      "              var_19      -0.0054162             nan             nan             nan\n",
      "              var_20      -5.7343894       0.2686065     -21.3486586       0.0000000\n",
      "              var_21     155.7225195             nan             nan             nan\n",
      "              var_22    -778.3133754             nan             nan             nan\n",
      "              var_23       0.1092271       0.0059422      18.3817379       0.0000000\n",
      "              var_24    -47313.7336422             nan             nan             nan\n",
      "              var_25      -0.6824679             nan             nan             nan\n",
      "              var_26     -23.5457985             nan             nan             nan\n",
      "              var_27    -7510.4560610             nan             nan             nan\n",
      "              var_28    11819.8044399     121.9769781      96.9019288       0.0000000\n",
      "              var_29    -6158.6661900             nan             nan             nan\n",
      "              var_30    -20182.0261678     156.4575287    -128.9936402       0.0000000\n",
      "              var_31    38689.8631837             nan             nan             nan\n",
      "              var_32    36647.4239233             nan             nan             nan\n",
      "           W_dep_var       0.7947708       0.0099100      80.1987233       0.0000000\n",
      "------------------------------------------------------------------------------------\n",
      "Instrumented: W_dep_var\n",
      "Instruments: W_var_1, W_var_10, W_var_11, W_var_12, W_var_13, W_var_14,\n",
      "             W_var_15, W_var_16, W_var_17, W_var_18, W_var_19, W_var_2,\n",
      "             W_var_20, W_var_21, W_var_22, W_var_23, W_var_24, W_var_25,\n",
      "             W_var_26, W_var_27, W_var_28, W_var_29, W_var_3, W_var_30,\n",
      "             W_var_31, W_var_32, W_var_4, W_var_5, W_var_6, W_var_7,\n",
      "             W_var_8, W_var_9\n",
      "================================ END OF REPORT =====================================\n"
     ]
    }
   ],
   "source": [
    "from pysal.lib import weights\n",
    "from pysal.explore import esda\n",
    "from pysal.model import spreg\n",
    "from sklearn.metrics import mean_squared_error, r2_score\n",
    "import matplotlib.pyplot as plt\n",
    "import numpy as np\n",
    "\n",
    "# create spatial weights matrix\n",
    "coordinates_train = X_train[['Lat', 'Lon']].values\n",
    "\n",
    "#  spatial weights matrix using K nearest neighbors\n",
    "w_train = weights.KNN.from_array(coordinates_train, k=3)\n",
    "### having issue that there is  there are groups of observations which are not connected to each other spatially\n",
    "\n",
    "\n",
    "mi = esda.Moran(y_train, w_train)\n",
    "print(f\"Moran's I: {mi.I}, p-value: {mi.p_sim}\")\n",
    "\n",
    "# # add constant to independent variables\n",
    "# X_const = spreg.add_constant(X_train)  # or use X = sm.add_constant(X) if using statsmodels\n",
    "\n",
    "\n",
    "model = spreg.GM_Lag(y_train.values[:, None], X_train.values, w=w_train)\n",
    "print(model.summary)"
   ]
  },
  {
   "cell_type": "markdown",
   "id": "c0bea4da-16c8-4902-9076-d97d50f59879",
   "metadata": {},
   "source": [
    "nan values in the Std.Error and Probability columns\n",
    "- Correlation matrix\n",
    "- Variance Inflation Factor (VIF) analysis\n",
    "- Feature Scaling"
   ]
  },
  {
   "cell_type": "code",
   "execution_count": 41,
   "id": "9a1ff56e-128c-4e99-8104-fd11aae66052",
   "metadata": {
    "tags": []
   },
   "outputs": [
    {
     "data": {
      "image/png": "[encoded data removed]",
      "text/plain": [
       "<Figure size 1100x900 with 2 Axes>"
      ]
     },
     "metadata": {},
     "output_type": "display_data"
    }
   ],
   "source": [
    "\n",
    "### Correlation matrix\n",
    "\n",
    "import seaborn as sns\n",
    "import matplotlib.pyplot as plt\n",
    "\n",
    "# correlation matrix\n",
    "corr = X_train.corr()\n",
    "\n",
    "# upper triangle\n",
    "mask = np.triu(np.ones_like(corr, dtype=bool))\n",
    "\n",
    "f, ax = plt.subplots(figsize=(11, 9))\n",
    "cmap = sns.diverging_palette(230, 20, as_cmap=True)\n",
    "sns.heatmap(corr, mask=mask, cmap=cmap, vmax=.3, center=0,\n",
    "            square=True, linewidths=.5, cbar_kws={\"shrink\": .5})\n",
    "plt.show()\n",
    "\n"
   ]
  },
  {
   "cell_type": "markdown",
   "id": "c21ffc70-4508-4d1e-9353-f1086fb1192a",
   "metadata": {},
   "source": [
    "Moran's I is a measure of global spatial autocorrelation. It ranges from -1 (indicating perfect dispersion) through 0 (random pattern) to +1 (perfect correlation).------>indicates a very high positive spatial autocorrelation"
   ]
  },
  {
   "cell_type": "code",
   "execution_count": 42,
   "id": "713c7ee5-8380-449a-bc5f-bf52d4cd1d8e",
   "metadata": {
    "tags": []
   },
   "outputs": [
    {
     "name": "stdout",
     "output_type": "stream",
     "text": [
      "   Variables           VIF\n",
      "0        Lat  3.481075e+04\n",
      "1        Lon  2.592683e+04\n",
      "2         Yr           inf\n",
      "3         Mn  9.007199e+15\n",
      "4         Dy  9.570224e+03\n",
      "5       salt  4.371184e+00\n",
      "6       temp           inf\n",
      "7      press  2.395632e+00\n",
      "8      neto2           inf\n",
      "9      Lon70  1.140238e+01\n",
      "10      yrmn           inf\n",
      "11        jd  2.070382e+08\n",
      "12       wsi  2.585576e+04\n",
      "13       wsj  3.558267e+04\n",
      "14        yd  6.111902e+05\n",
      "15       mli  4.923720e+02\n",
      "16       mlj  8.161463e+01\n",
      "17      CbPM  2.369728e+00\n",
      "18      VGPM  2.670844e+00\n",
      "19      CDOM  2.702124e+00\n",
      "20       CHL  7.426801e+00\n",
      "21     KD490  5.548521e+00\n",
      "22       PAR  2.835462e+00\n",
      "23       PIC  6.845593e+00\n",
      "24       POC  3.524526e+00\n",
      "25       aot  1.468673e+00\n",
      "26   Rrs_412  2.583756e+02\n",
      "27   Rrs_443  3.843852e+02\n",
      "28   Rrs_490  7.335333e+01\n",
      "29   Rrs_510  1.982892e+01\n",
      "30   Rrs_555  2.538510e+01\n",
      "31   Rrs_670  6.771733e+00\n"
     ]
    }
   ],
   "source": [
    "from statsmodels.stats.outliers_influence import variance_inflation_factor\n",
    "\n",
    "vif = pd.DataFrame()\n",
    "vif[\"Variables\"] = X_train.columns\n",
    "vif[\"VIF\"] = [variance_inflation_factor(X_train.values, i) for i in range(X_train.shape[1])]\n",
    "\n",
    "print(vif)\n"
   ]
  },
  {
   "cell_type": "code",
   "execution_count": 3,
   "id": "ee643fa7-3c1c-4940-9c36-dc3abaff2c0a",
   "metadata": {
    "tags": []
   },
   "outputs": [],
   "source": [
    "feature_columns = [ 'Lat', 'Lon', 'salt',\n",
    "       'temp', 'press', 'neto2', 'Lon70', 'yrmn', 'jd', 'wsi', 'wsj','mli', 'CbPM', 'VGPM', 'CDOM', 'KD490',\n",
    "       'PAR','POC', 'aot', 'Rrs_412', 'Rrs_443','Rrs_510']"
   ]
  },
  {
   "cell_type": "code",
   "execution_count": 52,
   "id": "6a83ea74-aff9-4d3b-8e19-5a9e6a9a0fb6",
   "metadata": {
    "tags": []
   },
   "outputs": [],
   "source": [
    "vif = pd.DataFrame()\n",
    "vif[\"Variables\"] = X_train_scaled.columns\n",
    "vif[\"VIF\"] = [variance_inflation_factor(X_train_scaled.values, i) for i in range(X_train_scaled.shape[1])]\n"
   ]
  },
  {
   "cell_type": "code",
   "execution_count": 53,
   "id": "27a77b90-1d03-448a-b198-83ab7203668f",
   "metadata": {
    "tags": []
   },
   "outputs": [
    {
     "name": "stdout",
     "output_type": "stream",
     "text": [
      "   Variables           VIF\n",
      "0        Lat  3.467595e+04\n",
      "1        Lon  2.585541e+04\n",
      "2       salt  4.235719e+00\n",
      "3       temp           inf\n",
      "4      press  1.955840e+00\n",
      "5      neto2           inf\n",
      "6      Lon70  5.358327e+00\n",
      "7       yrmn  2.318753e+01\n",
      "8         jd  1.878910e+01\n",
      "9        wsi  2.579134e+04\n",
      "10       wsj  3.544714e+04\n",
      "11       mli  4.899074e+02\n",
      "12       mlj  8.120546e+01\n",
      "13      CbPM  1.904676e+00\n",
      "14      VGPM  2.553423e+00\n",
      "15      CDOM  2.608926e+00\n",
      "16     KD490  2.081339e+00\n",
      "17       PAR  1.420680e+00\n",
      "18       POC  2.369790e+00\n",
      "19       aot  1.389280e+00\n",
      "20   Rrs_412  1.869230e+02\n",
      "21   Rrs_443  2.001275e+02\n",
      "22   Rrs_510  1.038223e+01\n",
      "23   Rrs_555  8.940000e+00\n"
     ]
    }
   ],
   "source": [
    "print(vif)"
   ]
  },
  {
   "cell_type": "code",
   "execution_count": 4,
   "id": "e168d18d-4a61-4ba8-97e9-385139832ea1",
   "metadata": {
    "tags": []
   },
   "outputs": [],
   "source": [
    "# Sort data by longitude\n",
    "df_sorted = df.sort_values(by='Lon')\n",
    "\n",
    "# Define dependent variable and independent variables\n",
    "y = df_sorted['ncp']\n",
    "X = df_sorted[feature_columns]\n",
    "\n",
    "# Determine split point\n",
    "split_point = int(len(df_sorted) * 0.8)\n",
    "\n",
    "# Split the data\n",
    "X_train, X_test = X[:split_point], X[split_point:]\n",
    "y_train, y_test = y[:split_point], y[split_point:]\n",
    "# assign column name \n",
    "\n",
    "X_train.columns = feature_columns\n",
    "X_test.columns = feature_columns"
   ]
  },
  {
   "cell_type": "code",
   "execution_count": 5,
   "id": "d65f4cf5-8e07-4735-8c73-53e85b0d5d72",
   "metadata": {
    "tags": []
   },
   "outputs": [],
   "source": [
    "from sklearn.preprocessing import StandardScaler\n",
    "\n",
    "scaler = StandardScaler()\n",
    "\n",
    "# Fit on training set only.\n",
    "scaler.fit(X_train)\n",
    "\n",
    "# Apply transform to both the training set and the test set.\n",
    "X_train_scaled = scaler.transform(X_train)\n",
    "X_test_scaled = scaler.transform(X_test)\n",
    "X_train_scaled = pd.DataFrame(X_train_scaled, columns=X_train.columns)\n",
    "X_test_scaled = pd.DataFrame(X_test_scaled, columns=X_test.columns)\n"
   ]
  },
  {
   "cell_type": "code",
   "execution_count": 17,
   "id": "04128b0d-53a9-4102-8fbf-f454412a832c",
   "metadata": {
    "tags": []
   },
   "outputs": [
    {
     "name": "stderr",
     "output_type": "stream",
     "text": [
      "/hpc/home/xc184/.local/lib/python3.10/site-packages/libpysal/weights/weights.py:172: UserWarning: The weights matrix is not fully connected: \n",
      " There are 872 disconnected components.\n",
      "  warnings.warn(message)\n"
     ]
    },
    {
     "name": "stdout",
     "output_type": "stream",
     "text": [
      "Moran's I: 0.9961291569891, p-value: 0.001\n",
      "REGRESSION\n",
      "----------\n",
      "SUMMARY OF OUTPUT: SPATIAL TWO STAGE LEAST SQUARES\n",
      "--------------------------------------------------\n",
      "Data set            :     unknown\n",
      "Weights matrix      :     unknown\n",
      "Dependent Variable  :     dep_var                Number of Observations:      282941\n",
      "Mean dependent var  :      9.2043                Number of Variables   :          24\n",
      "S.D. dependent var  :     23.2837                Degrees of Freedom    :      282917\n",
      "Pseudo R-squared    :      0.3324\n",
      "Spatial Pseudo R-squared: omitted due to rho outside the boundary (-1, 1).\n",
      "------------------------------------------------------------------------------------\n",
      "            Variable     Coefficient       Std.Error     z-Statistic     Probability\n",
      "------------------------------------------------------------------------------------\n",
      "            CONSTANT    -1044554.5049163    1956.3367773    -533.9338896       0.0000000\n",
      "               var_1    -893.7259199     475.2687478      -1.8804643       0.0600448\n",
      "               var_2     850.4148476             nan             nan             nan\n",
      "               var_3    -807.7723920             nan             nan             nan\n",
      "               var_4    -1411.5684140    3531.6655845      -0.3996891       0.6893855\n",
      "               var_5     -18.0271565             nan             nan             nan\n",
      "               var_6     717.8082081    3798.1292363       0.1889899       0.8501007\n",
      "               var_7     -96.4909435             nan             nan             nan\n",
      "               var_8     -68.3778806             nan             nan             nan\n",
      "               var_9     -79.5905521             nan             nan             nan\n",
      "              var_10    -185.8717463             nan             nan             nan\n",
      "              var_11      77.4950220    1535.9995768       0.0504525       0.9597618\n",
      "              var_12    1520.5343769             nan             nan             nan\n",
      "              var_13      22.7698293     263.4808981       0.0864193       0.9311331\n",
      "              var_14     -13.8399331             nan             nan             nan\n",
      "              var_15       2.3487820     162.2165718       0.0144793       0.9884476\n",
      "              var_16     103.4303364             nan             nan             nan\n",
      "              var_17     -11.4493982     253.5616375      -0.0451543       0.9639843\n",
      "              var_18     -93.4250723             nan             nan             nan\n",
      "              var_19     -13.8752204     132.5576756      -0.1046731       0.9166352\n",
      "              var_20    -115.6320338     332.2043642      -0.3480750       0.7277839\n",
      "              var_21     274.7341984     692.2582733       0.3968666       0.6914658\n",
      "              var_22      -9.8549468     238.4678886      -0.0413261       0.9670359\n",
      "           W_dep_var       6.7080678      17.6112474       0.3808968       0.7032798\n",
      "------------------------------------------------------------------------------------\n",
      "Instrumented: W_dep_var\n",
      "Instruments: W_var_1, W_var_10, W_var_11, W_var_12, W_var_13, W_var_14,\n",
      "             W_var_15, W_var_16, W_var_17, W_var_18, W_var_19, W_var_2,\n",
      "             W_var_20, W_var_21, W_var_22, W_var_3, W_var_4, W_var_5,\n",
      "             W_var_6, W_var_7, W_var_8, W_var_9\n",
      "Warning: *** WARNING: Estimate for spatial lag coefficient is outside the boundary (-1, 1). ***\n",
      "================================ END OF REPORT =====================================\n"
     ]
    }
   ],
   "source": [
    "from pysal.lib import weights\n",
    "from pysal.explore import esda\n",
    "from pysal.model import spreg\n",
    "from sklearn.metrics import mean_squared_error, r2_score\n",
    "import matplotlib.pyplot as plt\n",
    "import numpy as np\n",
    "\n",
    "# create spatial weights matrix\n",
    "coordinates_train = X_train_scaled[['Lat', 'Lon']].values\n",
    "\n",
    "#  spatial weights matrix using K nearest neighbors\n",
    "w_train = weights.KNN.from_array(coordinates_train, k=5)\n",
    "\n",
    "### having issue that there is  there are groups of observations which are not connected to each other spatially\n",
    "\n",
    "\n",
    "mi = esda.Moran(y_train, w_train)\n",
    "print(f\"Moran's I: {mi.I}, p-value: {mi.p_sim}\")\n",
    "\n",
    "# # add constant to independent variables\n",
    "# X_const = spreg.add_constant(X_train)  # or use X = sm.add_constant(X) if using statsmodels\n",
    "\n",
    "\n",
    "model = spreg.GM_Lag(y_train.values[:, None], X_train_scaled.values, w=w_train)\n",
    "print(model.summary)"
   ]
  },
  {
   "cell_type": "code",
   "execution_count": 28,
   "id": "b2c485ce-0a96-496f-9624-ed26a47dd991",
   "metadata": {
    "tags": []
   },
   "outputs": [
    {
     "name": "stdout",
     "output_type": "stream",
     "text": [
      "Training MSE: 696.8524413637609\n"
     ]
    }
   ],
   "source": [
    "from sklearn.metrics import mean_squared_error as mse\n",
    "\n",
    "# Predict values for train set\n",
    "y_train_pred = model.predy_e.flatten()\n",
    "\n",
    "# Compute Mean Squared Error for train set\n",
    "mse_train = mse(y, y_train_pred)\n",
    "\n",
    "print(\"Training MSE:\", mse_train)\n"
   ]
  },
  {
   "cell_type": "code",
   "execution_count": 26,
   "id": "5a32c889-900a-47ea-bd01-f1a8485c839c",
   "metadata": {
    "tags": []
   },
   "outputs": [
    {
     "name": "stdout",
     "output_type": "stream",
     "text": [
      "(282941,)\n",
      "(353677,)\n"
     ]
    }
   ],
   "source": [
    "print(y_train.shape)         # Shape of y_train\n",
    "print(y_train_pred.shape)    # Shape of y_train_pred\n"
   ]
  },
  {
   "cell_type": "code",
   "execution_count": 27,
   "id": "fa3ed1a3-f784-46f9-88f9-69058ad05462",
   "metadata": {
    "tags": []
   },
   "outputs": [
    {
     "data": {
      "text/plain": [
       "353677"
      ]
     },
     "execution_count": 27,
     "metadata": {},
     "output_type": "execute_result"
    }
   ],
   "source": [
    "len(y)"
   ]
  },
  {
   "cell_type": "code",
   "execution_count": 9,
   "id": "d1cc6da3-9f2f-4eb3-b068-bec363fae747",
   "metadata": {},
   "outputs": [
    {
     "ename": "MemoryError",
     "evalue": "Unable to allocate 596. GiB for an array with shape (282941, 282941) and data type float64",
     "output_type": "error",
     "traceback": [
      "\u001b[0;31m---------------------------------------------------------------------------\u001b[0m",
      "\u001b[0;31mMemoryError\u001b[0m                               Traceback (most recent call last)",
      "\u001b[0;32m/tmp/ipykernel_1246089/1986376072.py\u001b[0m in \u001b[0;36m<module>\u001b[0;34m\u001b[0m\n\u001b[1;32m     18\u001b[0m \u001b[0;34m\u001b[0m\u001b[0m\n\u001b[1;32m     19\u001b[0m \u001b[0;31m# Use the distances and indices to calculate the variogram model\u001b[0m\u001b[0;34m\u001b[0m\u001b[0;34m\u001b[0m\u001b[0m\n\u001b[0;32m---> 20\u001b[0;31m ok = OrdinaryKriging(\n\u001b[0m\u001b[1;32m     21\u001b[0m     \u001b[0mX_train_scaled\u001b[0m\u001b[0;34m[\u001b[0m\u001b[0;34m'Lat'\u001b[0m\u001b[0;34m]\u001b[0m\u001b[0;34m.\u001b[0m\u001b[0mvalues\u001b[0m\u001b[0;34m,\u001b[0m\u001b[0;34m\u001b[0m\u001b[0;34m\u001b[0m\u001b[0m\n\u001b[1;32m     22\u001b[0m     \u001b[0mX_train_scaled\u001b[0m\u001b[0;34m[\u001b[0m\u001b[0;34m'Lon'\u001b[0m\u001b[0;34m]\u001b[0m\u001b[0;34m.\u001b[0m\u001b[0mvalues\u001b[0m\u001b[0;34m,\u001b[0m\u001b[0;34m\u001b[0m\u001b[0;34m\u001b[0m\u001b[0m\n",
      "\u001b[0;32m~/.local/lib/python3.10/site-packages/pykrige/ok.py\u001b[0m in \u001b[0;36m__init__\u001b[0;34m(self, x, y, z, variogram_model, variogram_parameters, variogram_function, nlags, weight, anisotropy_scaling, anisotropy_angle, verbose, enable_plotting, enable_statistics, coordinates_type, exact_values, pseudo_inv, pseudo_inv_type)\u001b[0m\n\u001b[1;32m    319\u001b[0m             \u001b[0mself\u001b[0m\u001b[0;34m.\u001b[0m\u001b[0msemivariance\u001b[0m\u001b[0;34m,\u001b[0m\u001b[0;34m\u001b[0m\u001b[0;34m\u001b[0m\u001b[0m\n\u001b[1;32m    320\u001b[0m             \u001b[0mself\u001b[0m\u001b[0;34m.\u001b[0m\u001b[0mvariogram_model_parameters\u001b[0m\u001b[0;34m,\u001b[0m\u001b[0;34m\u001b[0m\u001b[0;34m\u001b[0m\u001b[0m\n\u001b[0;32m--> 321\u001b[0;31m         \u001b[0;34m)\u001b[0m \u001b[0;34m=\u001b[0m \u001b[0m_initialize_variogram_model\u001b[0m\u001b[0;34m(\u001b[0m\u001b[0;34m\u001b[0m\u001b[0;34m\u001b[0m\u001b[0m\n\u001b[0m\u001b[1;32m    322\u001b[0m             \u001b[0mnp\u001b[0m\u001b[0;34m.\u001b[0m\u001b[0mvstack\u001b[0m\u001b[0;34m(\u001b[0m\u001b[0;34m(\u001b[0m\u001b[0mself\u001b[0m\u001b[0;34m.\u001b[0m\u001b[0mX_ADJUSTED\u001b[0m\u001b[0;34m,\u001b[0m \u001b[0mself\u001b[0m\u001b[0;34m.\u001b[0m\u001b[0mY_ADJUSTED\u001b[0m\u001b[0;34m)\u001b[0m\u001b[0;34m)\u001b[0m\u001b[0;34m.\u001b[0m\u001b[0mT\u001b[0m\u001b[0;34m,\u001b[0m\u001b[0;34m\u001b[0m\u001b[0;34m\u001b[0m\u001b[0m\n\u001b[1;32m    323\u001b[0m             \u001b[0mself\u001b[0m\u001b[0;34m.\u001b[0m\u001b[0mZ\u001b[0m\u001b[0;34m,\u001b[0m\u001b[0;34m\u001b[0m\u001b[0;34m\u001b[0m\u001b[0m\n",
      "\u001b[0;32m~/.local/lib/python3.10/site-packages/pykrige/core.py\u001b[0m in \u001b[0;36m_initialize_variogram_model\u001b[0;34m(X, y, variogram_model, variogram_model_parameters, variogram_function, nlags, weight, coordinates_type)\u001b[0m\n\u001b[1;32m    472\u001b[0m         \u001b[0my1\u001b[0m\u001b[0;34m,\u001b[0m \u001b[0my2\u001b[0m \u001b[0;34m=\u001b[0m \u001b[0mnp\u001b[0m\u001b[0;34m.\u001b[0m\u001b[0mmeshgrid\u001b[0m\u001b[0;34m(\u001b[0m\u001b[0mX\u001b[0m\u001b[0;34m[\u001b[0m\u001b[0;34m:\u001b[0m\u001b[0;34m,\u001b[0m \u001b[0;36m1\u001b[0m\u001b[0;34m]\u001b[0m\u001b[0;34m,\u001b[0m \u001b[0mX\u001b[0m\u001b[0;34m[\u001b[0m\u001b[0;34m:\u001b[0m\u001b[0;34m,\u001b[0m \u001b[0;36m1\u001b[0m\u001b[0;34m]\u001b[0m\u001b[0;34m,\u001b[0m \u001b[0msparse\u001b[0m\u001b[0;34m=\u001b[0m\u001b[0;32mTrue\u001b[0m\u001b[0;34m)\u001b[0m\u001b[0;34m\u001b[0m\u001b[0;34m\u001b[0m\u001b[0m\n\u001b[1;32m    473\u001b[0m         \u001b[0mz1\u001b[0m\u001b[0;34m,\u001b[0m \u001b[0mz2\u001b[0m \u001b[0;34m=\u001b[0m \u001b[0mnp\u001b[0m\u001b[0;34m.\u001b[0m\u001b[0mmeshgrid\u001b[0m\u001b[0;34m(\u001b[0m\u001b[0my\u001b[0m\u001b[0;34m,\u001b[0m \u001b[0my\u001b[0m\u001b[0;34m,\u001b[0m \u001b[0msparse\u001b[0m\u001b[0;34m=\u001b[0m\u001b[0;32mTrue\u001b[0m\u001b[0;34m)\u001b[0m\u001b[0;34m\u001b[0m\u001b[0;34m\u001b[0m\u001b[0m\n\u001b[0;32m--> 474\u001b[0;31m         \u001b[0md\u001b[0m \u001b[0;34m=\u001b[0m \u001b[0mgreat_circle_distance\u001b[0m\u001b[0;34m(\u001b[0m\u001b[0mx1\u001b[0m\u001b[0;34m,\u001b[0m \u001b[0my1\u001b[0m\u001b[0;34m,\u001b[0m \u001b[0mx2\u001b[0m\u001b[0;34m,\u001b[0m \u001b[0my2\u001b[0m\u001b[0;34m)\u001b[0m\u001b[0;34m\u001b[0m\u001b[0;34m\u001b[0m\u001b[0m\n\u001b[0m\u001b[1;32m    475\u001b[0m         \u001b[0mg\u001b[0m \u001b[0;34m=\u001b[0m \u001b[0;36m0.5\u001b[0m \u001b[0;34m*\u001b[0m \u001b[0;34m(\u001b[0m\u001b[0mz1\u001b[0m \u001b[0;34m-\u001b[0m \u001b[0mz2\u001b[0m\u001b[0;34m)\u001b[0m \u001b[0;34m**\u001b[0m \u001b[0;36m2.0\u001b[0m\u001b[0;34m\u001b[0m\u001b[0;34m\u001b[0m\u001b[0m\n\u001b[1;32m    476\u001b[0m         \u001b[0mindices\u001b[0m \u001b[0;34m=\u001b[0m \u001b[0mnp\u001b[0m\u001b[0;34m.\u001b[0m\u001b[0mindices\u001b[0m\u001b[0;34m(\u001b[0m\u001b[0md\u001b[0m\u001b[0;34m.\u001b[0m\u001b[0mshape\u001b[0m\u001b[0;34m)\u001b[0m\u001b[0;34m\u001b[0m\u001b[0;34m\u001b[0m\u001b[0m\n",
      "\u001b[0;32m~/.local/lib/python3.10/site-packages/pykrige/core.py\u001b[0m in \u001b[0;36mgreat_circle_distance\u001b[0;34m(lon1, lat1, lon2, lat2)\u001b[0m\n\u001b[1;32m     72\u001b[0m     \u001b[0mlat1\u001b[0m \u001b[0;34m=\u001b[0m \u001b[0mnp\u001b[0m\u001b[0;34m.\u001b[0m\u001b[0marray\u001b[0m\u001b[0;34m(\u001b[0m\u001b[0mlat1\u001b[0m\u001b[0;34m)\u001b[0m \u001b[0;34m*\u001b[0m \u001b[0mnp\u001b[0m\u001b[0;34m.\u001b[0m\u001b[0mpi\u001b[0m \u001b[0;34m/\u001b[0m \u001b[0;36m180.0\u001b[0m\u001b[0;34m\u001b[0m\u001b[0;34m\u001b[0m\u001b[0m\n\u001b[1;32m     73\u001b[0m     \u001b[0mlat2\u001b[0m \u001b[0;34m=\u001b[0m \u001b[0mnp\u001b[0m\u001b[0;34m.\u001b[0m\u001b[0marray\u001b[0m\u001b[0;34m(\u001b[0m\u001b[0mlat2\u001b[0m\u001b[0;34m)\u001b[0m \u001b[0;34m*\u001b[0m \u001b[0mnp\u001b[0m\u001b[0;34m.\u001b[0m\u001b[0mpi\u001b[0m \u001b[0;34m/\u001b[0m \u001b[0;36m180.0\u001b[0m\u001b[0;34m\u001b[0m\u001b[0;34m\u001b[0m\u001b[0m\n\u001b[0;32m---> 74\u001b[0;31m     \u001b[0mdlon\u001b[0m \u001b[0;34m=\u001b[0m \u001b[0;34m(\u001b[0m\u001b[0mlon1\u001b[0m \u001b[0;34m-\u001b[0m \u001b[0mlon2\u001b[0m\u001b[0;34m)\u001b[0m \u001b[0;34m*\u001b[0m \u001b[0mnp\u001b[0m\u001b[0;34m.\u001b[0m\u001b[0mpi\u001b[0m \u001b[0;34m/\u001b[0m \u001b[0;36m180.0\u001b[0m\u001b[0;34m\u001b[0m\u001b[0;34m\u001b[0m\u001b[0m\n\u001b[0m\u001b[1;32m     75\u001b[0m \u001b[0;34m\u001b[0m\u001b[0m\n\u001b[1;32m     76\u001b[0m     \u001b[0;31m# Evaluate trigonometric functions that need to be evaluated more\u001b[0m\u001b[0;34m\u001b[0m\u001b[0;34m\u001b[0m\u001b[0m\n",
      "\u001b[0;31mMemoryError\u001b[0m: Unable to allocate 596. GiB for an array with shape (282941, 282941) and data type float64"
     ]
    }
   ],
   "source": [
    "import numpy as np\n",
    "from pykrige.ok import OrdinaryKriging\n",
    "\n",
    "# # Prepare your data\n",
    "# observed_data = np.column_stack((X_train_scaled[['Lat', 'Lon']].values, y_train.values))  # Combine coordinates and target variable\n",
    "# observed_coordinates = observed_data[:, :2]\n",
    "# observed_values = observed_data[:, 2]\n",
    "\n",
    "# prediction_coordinates = X_test_scaled[['Lat', 'Lon']].values\n",
    "\n",
    "from scipy.spatial import cKDTree\n",
    "\n",
    "# Create a KDTree from the input coordinates\n",
    "tree = cKDTree(X_train_scaled[['Lat', 'Lon']].values)\n",
    "\n",
    "# Query the tree to find the k nearest neighbors for each point\n",
    "distances, indices = tree.query(X_train_scaled[['Lat', 'Lon']].values, k=3)\n",
    "\n",
    "# Use the distances and indices to calculate the variogram model\n",
    "ok = OrdinaryKriging(\n",
    "    X_train_scaled['Lat'].values,\n",
    "    X_train_scaled['Lon'].values,\n",
    "    y_train.values,\n",
    "    variogram_model='linear',\n",
    "    coordinates_type='geographic',\n",
    "    nlags=10\n",
    ")\n",
    "\n",
    "\n",
    "# # Perform kriging interpolation\n",
    "# ok = OrdinaryKriging(\n",
    "#     observed_coordinates[:, 1],  # Longitude values\n",
    "#     observed_coordinates[:, 0],  # Latitude values\n",
    "#     observed_values,\n",
    "#     variogram_model=\"linear\",  # Choose a variogram model (e.g., linear, exponential, spherical)\n",
    "#     verbose=False\n",
    "# )\n",
    "\n",
    "kriging_results, kriging_error = ok.execute(\n",
    "    \"points\",  # Specify the output grid type (\"points\" for point-wise predictions)\n",
    "    prediction_coordinates[:, 1],  # Longitude values of prediction coordinates\n",
    "    prediction_coordinates[:, 0],  # Latitude values of prediction coordinates\n",
    ")\n",
    "\n",
    "# Retrieve the predicted ncp values\n",
    "predicted_ncp = kriging_results.data[:, 0]\n",
    "\n",
    "# Print the predicted ncp values\n",
    "for i, (lat, lon) in enumerate(prediction_coordinates):\n",
    "    print(f\"Predicted ncp at ({lat}, {lon}): {predicted_ncp[i]}\")\n"
   ]
  },
  {
   "cell_type": "code",
   "execution_count": null,
   "id": "fbb6529f-8205-4255-a74f-9b4f74b6a494",
   "metadata": {
    "tags": []
   },
   "outputs": [],
   "source": [
    "from sklearn.metrics.pairwise import euclidean_distances\n",
    "\n",
    "# Define the number of nearest neighbors for IDW interpolation\n",
    "k = 3\n",
    "\n",
    "# Compute pairwise distances between the training points and test points\n",
    "distances = euclidean_distances(X_train_scaled[['Lat', 'Lon']].values, X_test_scaled[['Lat', 'Lon']].values)\n",
    "\n",
    "# Find the indices of the k nearest neighbors for each test point\n",
    "indices = np.argpartition(distances, k, axis=0)[:k]\n",
    "\n",
    "# Compute the inverse distances for IDW interpolation\n",
    "inverse_distances = 1.0 / distances[indices]\n",
    "\n",
    "# Compute the weighted average of the target variable for each test point\n",
    "y_pred = np.average(y_train.values[indices], weights=inverse_distances, axis=0)\n",
    "\n",
    "# Calculate the evaluation metrics (e.g., RMSE, R^2) for the IDW model\n",
    "rmse = np.sqrt(mean_squared_error(y_test, y_pred))\n",
    "r2 = r2_score(y_test, y_pred)\n",
    "\n",
    "print(f\"RMSE: {rmse}\")\n",
    "print(f\"R^2: {r2}\")\n"
   ]
  },
  {
   "cell_type": "code",
   "execution_count": null,
   "id": "61c19c3b-4a22-4269-bf6f-4463f675986a",
   "metadata": {},
   "outputs": [],
   "source": []
  }
 ],
 "metadata": {
  "kernelspec": {
   "display_name": "Python 3 (ipykernel)",
   "language": "python",
   "name": "python3"
  },
  "language_info": {
   "codemirror_mode": {
    "name": "ipython",
    "version": 3
   },
   "file_extension": ".py",
   "mimetype": "text/x-python",
   "name": "python",
   "nbconvert_exporter": "python",
   "pygments_lexer": "ipython3",
   "version": "3.10.10"
  }
 },
 "nbformat": 4,
 "nbformat_minor": 5
}
